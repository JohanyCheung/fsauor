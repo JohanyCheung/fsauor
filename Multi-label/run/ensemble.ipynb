{
 "cells": [
  {
   "cell_type": "code",
   "execution_count": 1,
   "metadata": {},
   "outputs": [],
   "source": [
    "import pandas as pd\n",
    "import numpy as np"
   ]
  },
  {
   "cell_type": "code",
   "execution_count": 2,
   "metadata": {},
   "outputs": [],
   "source": [
    "bigru_char = pd.read_csv('sep_dou/bigru_char_prob.csv')\n",
    "capsule_char = pd.read_csv('sep_dou/capsule_char_prob.csv')"
   ]
  },
  {
   "cell_type": "code",
   "execution_count": 3,
   "metadata": {},
   "outputs": [],
   "source": [
    "submit_char = bigru_char.copy()"
   ]
  },
  {
   "cell_type": "code",
   "execution_count": 4,
   "metadata": {},
   "outputs": [],
   "source": [
    "cols = bigru_char.columns.tolist()\n",
    "cols.remove('id')\n",
    "cols.remove('content')"
   ]
  },
  {
   "cell_type": "code",
   "execution_count": 5,
   "metadata": {},
   "outputs": [],
   "source": [
    "for col in cols:\n",
    "    bigru_temp = bigru_char[col].apply(lambda x:eval(x)).tolist()\n",
    "    capsule_temp = capsule_char[col].apply(lambda x:eval(x)).tolist()\n",
    "    prob_temp = np.array(bigru_temp) + np.array(capsule_temp)\n",
    "    submit_char[col] = np.argmax(prob_temp, axis=1)\n",
    "    submit_char[col] = submit_char[col] - 2\n",
    "    \n",
    "submit_char.to_csv('bigru_capsule_char_merge.csv',index=False)"
   ]
  },
  {
   "cell_type": "code",
   "execution_count": null,
   "metadata": {},
   "outputs": [],
   "source": [
    "def merge_data(path1, path2):\n",
    "    result1 = pd.read_csv(path1)\n",
    "    result2 = pd.read_csv(path2)\n",
    "    submit = result1.copy()\n",
    "    \n",
    "    cols = result1.columns.tolist()\n",
    "    cols.remove('id')\n",
    "    cols.remove('content')\n",
    "    \n",
    "    for col in cols:\n",
    "        result1_temp = bigru_char[col].apply(lambda x:eval(x)).tolist()\n",
    "        result2_temp = capsule_char[col].apply(lambda x:eval(x)).tolist()\n",
    "        prob_temp = np.array(result1_temp) + np.array(result2_temp)\n",
    "        submit[col] = np.argmax(prob_temp, axis=1)\n",
    "        submit[col] = submit[col] - 2\n",
    "    return submit"
   ]
  }
 ],
 "metadata": {
  "kernelspec": {
   "display_name": "Python 3",
   "language": "python",
   "name": "python3"
  },
  "language_info": {
   "codemirror_mode": {
    "name": "ipython",
    "version": 3
   },
   "file_extension": ".py",
   "mimetype": "text/x-python",
   "name": "python",
   "nbconvert_exporter": "python",
   "pygments_lexer": "ipython3",
   "version": "3.6.5"
  }
 },
 "nbformat": 4,
 "nbformat_minor": 2
}
